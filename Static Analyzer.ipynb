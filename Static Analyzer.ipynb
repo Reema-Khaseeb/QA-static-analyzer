{
 "cells": [
  {
   "cell_type": "markdown",
   "id": "ae0ad1c3",
   "metadata": {},
   "source": [
    "# Unreachable Code"
   ]
  },
  {
   "cell_type": "code",
   "execution_count": 134,
   "id": "6dc410b9",
   "metadata": {
    "scrolled": true
   },
   "outputs": [
    {
     "data": {
      "text/plain": [
       "\"\\nwith open('python_code_text.txt', 'r') as infile:\\n    # Read the contents of the file into memory\\n    data = infile.read()  \\n\\n# Return a list of the lines, breaking at line boundaries.\\nlines_list = data.splitlines()\\n\""
      ]
     },
     "execution_count": 134,
     "metadata": {},
     "output_type": "execute_result"
    }
   ],
   "source": [
    "'''\n",
    "with open('python_code_text.txt', 'r') as infile:\n",
    "    # Read the contents of the file into memory\n",
    "    data = infile.read()  \n",
    "\n",
    "# Return a list of the lines, breaking at line boundaries.\n",
    "lines_list = data.splitlines()\n",
    "'''"
   ]
  },
  {
   "cell_type": "code",
   "execution_count": 135,
   "id": "ef459382",
   "metadata": {},
   "outputs": [],
   "source": [
    "def read_func(filename):\n",
    "    '''\n",
    "    return: the file as a list of lines\n",
    "    parameter: file name with its path \n",
    "    Reads the text file that includes the code line by line.\n",
    "    ''' \n",
    "    with open(filename,'r') as file:\n",
    "        return [line.strip() for line in file]"
   ]
  },
  {
   "cell_type": "code",
   "execution_count": 136,
   "id": "96b37c36",
   "metadata": {},
   "outputs": [],
   "source": [
    "lines_list = read_func('test.txt')"
   ]
  },
  {
   "cell_type": "code",
   "execution_count": 137,
   "id": "65a4e28b",
   "metadata": {},
   "outputs": [],
   "source": [
    "def functions_lines(lines_list):\n",
    "    '''\n",
    "    return: List of each line with function definition\n",
    "    parameter: list of lines \n",
    "    ''' \n",
    "    return [index+1 for index,line in enumerate(lines_list)\n",
    "            if len(line.split()) >= 1 \n",
    "            if line.split()[0] == 'def']"
   ]
  },
  {
   "cell_type": "code",
   "execution_count": 138,
   "id": "1cebbbac",
   "metadata": {
    "scrolled": false
   },
   "outputs": [
    {
     "data": {
      "text/plain": [
       "[1, 6, 12, 16, 23, 29, 35]"
      ]
     },
     "execution_count": 138,
     "metadata": {},
     "output_type": "execute_result"
    }
   ],
   "source": [
    "def_lines = functions_lines(lines_list)\n",
    "def_lines"
   ]
  },
  {
   "cell_type": "markdown",
   "id": "db29be4e",
   "metadata": {},
   "source": [
    "# False condition or True condition"
   ]
  },
  {
   "cell_type": "code",
   "execution_count": 139,
   "id": "63fad91f",
   "metadata": {},
   "outputs": [],
   "source": [
    "def get_next_function_line(index):\n",
    "    '''\n",
    "    Loop from that index line until the next function\n",
    "    return: next function line\n",
    "    parameter: index line\n",
    "    '''\n",
    "    for def_line in def_lines:\n",
    "        if def_line > index:\n",
    "            return def_line"
   ]
  },
  {
   "cell_type": "code",
   "execution_count": 140,
   "id": "b2a7f87d",
   "metadata": {},
   "outputs": [],
   "source": [
    "def false_true_conditions(lines_list):\n",
    "    for index_line,line in enumerate(lines_list):\n",
    "        if 'if' in line:\n",
    "            if 'False' in line:\n",
    "                print(f'Unrechable code in line {index_line+2}, False condition\\n')\n",
    "\n",
    "            elif 'True' in line:\n",
    "                detect_until = get_next_function_line(index_line+1)\n",
    "\n",
    "                for line_else_index,lines_until_def in enumerate(lines_list[index_line:detect_until]):\n",
    "                    if 'else' in lines_until_def:\n",
    "                        print(f'Unrechable code in line {line_else_index+2}, if statement always true, therefore else condition is unreachable\\n')"
   ]
  },
  {
   "cell_type": "markdown",
   "id": "e838af53",
   "metadata": {},
   "source": [
    "# After return statement"
   ]
  },
  {
   "cell_type": "code",
   "execution_count": 141,
   "id": "c318c751",
   "metadata": {},
   "outputs": [],
   "source": [
    "def after_return_statement(lines_list):\n",
    "    for index,line in enumerate(lines_list):\n",
    "        if 'return' in line:\n",
    "            next_line = lines_list[index+1].split()\n",
    "            if len(next_line) >= 1: # not empty line\n",
    "                # if the next line is neither 'else' statement nor new function\n",
    "                if 'else' in next_line or 'def' in next_line:\n",
    "                    pass\n",
    "                else:\n",
    "                    print(f'Unreachable code after return statement in line {index+2} \\n')"
   ]
  },
  {
   "cell_type": "markdown",
   "id": "b17b5274",
   "metadata": {},
   "source": [
    "# Same condition in if and else statement"
   ]
  },
  {
   "cell_type": "code",
   "execution_count": 142,
   "id": "1169f3da",
   "metadata": {},
   "outputs": [],
   "source": [
    "import re"
   ]
  },
  {
   "cell_type": "code",
   "execution_count": 143,
   "id": "56d621f5",
   "metadata": {},
   "outputs": [],
   "source": [
    "def save_condition(line, statement):\n",
    "    cond = re.split(':',line)[0]\n",
    "    cond = re.split(statement, cond)[1].strip()\n",
    "    return cond"
   ]
  },
  {
   "cell_type": "code",
   "execution_count": 144,
   "id": "e1ab4ac6",
   "metadata": {
    "scrolled": true
   },
   "outputs": [],
   "source": [
    "def duplicated_condition(lines_list):\n",
    "    for index,line in enumerate(lines_list):\n",
    "        if 'if' in line:\n",
    "            condition = save_condition(line, 'if')\n",
    "        # if not empty line\n",
    "        if len(line) >= 1 and 'elif' in line: \n",
    "                elif_condition = save_condition(line, 'elif')\n",
    "                # Detect if else condition is the same as elif condition\n",
    "                if elif_condition == condition:\n",
    "                    print(f'Unreachable code at line {index+2},the elif-statement can never be true as the same condition in if-statement has already been handled \\n')"
   ]
  },
  {
   "cell_type": "code",
   "execution_count": 145,
   "id": "5844fd6f",
   "metadata": {},
   "outputs": [],
   "source": [
    "def unreachable_code(lines_list):\n",
    "    false_true_conditions(lines_list)\n",
    "    after_return_statement(lines_list)\n",
    "    duplicated_condition(lines_list)"
   ]
  },
  {
   "cell_type": "code",
   "execution_count": 146,
   "id": "a07e121c",
   "metadata": {},
   "outputs": [
    {
     "name": "stdout",
     "output_type": "stream",
     "text": [
      "Unrechable code in line 3, if statement always true, therefore else condition is unreachable\n",
      "\n",
      "Unrechable code in line 8, False condition\n",
      "\n",
      "Unreachable code after return statement in line 14 \n",
      "\n",
      "Unreachable code after return statement in line 19 \n",
      "\n",
      "Unreachable code at line 27,the elif-statement can never be true as the same condition in if-statement has already been handled \n",
      "\n"
     ]
    }
   ],
   "source": [
    "unreachable_code(lines_list)"
   ]
  },
  {
   "cell_type": "markdown",
   "id": "7929b3f5",
   "metadata": {},
   "source": [
    "divide by zero"
   ]
  },
  {
   "cell_type": "markdown",
   "id": "a9569cec",
   "metadata": {},
   "source": [
    "* cases 1: if divide int of zero \n",
    "* case 2: if divide var value of var =0   "
   ]
  },
  {
   "cell_type": "code",
   "execution_count": 147,
   "id": "0a9615c5",
   "metadata": {},
   "outputs": [],
   "source": [
    "def find (par,file_name,what):\n",
    "    with open(file_name) as f:\n",
    "    # reading each line    \n",
    "            for line in f:\n",
    "   \n",
    "        # reading each word        \n",
    "                for word in line.split():\n",
    "\n",
    "            # Handle what you need to handle. i.e.     \n",
    "                    if word == par and what == \"word\":\n",
    "                        return(word)\n",
    "                    if word == par and what == \"line\":\n",
    "                        return(line)\n",
    "\n",
    "            #else: print(\"not found\")"
   ]
  },
  {
   "cell_type": "code",
   "execution_count": 148,
   "id": "0074baa2",
   "metadata": {},
   "outputs": [],
   "source": [
    "def Line_OfDivid():\n",
    "    LineOfDivid =[]\n",
    "    for i in range(len(lines_list)):\n",
    "        for j in lines_list[i]:\n",
    "            if j==\"/\":\n",
    "                LineOfDivid.append(lines_list[i])\n",
    "    return LineOfDivid\n",
    "   "
   ]
  },
  {
   "cell_type": "code",
   "execution_count": 149,
   "id": "7a08fe8d",
   "metadata": {},
   "outputs": [
    {
     "data": {
      "text/plain": [
       "['q = x/0', 'z = 1/p']"
      ]
     },
     "execution_count": 149,
     "metadata": {},
     "output_type": "execute_result"
    }
   ],
   "source": [
    "Line_OfDivid=Line_OfDivid()\n",
    "Line_OfDivid"
   ]
  },
  {
   "cell_type": "code",
   "execution_count": 150,
   "id": "c550f97f",
   "metadata": {},
   "outputs": [],
   "source": [
    "def AfterDiv(Line_OfDivid):\n",
    "    list_num = []\n",
    "    for i in range(len(Line_OfDivid)):\n",
    "        num = Line_OfDivid[i].split(\"/\")\n",
    "        list_num.append(num[1])\n",
    "    return list_num"
   ]
  },
  {
   "cell_type": "code",
   "execution_count": 151,
   "id": "5736381b",
   "metadata": {},
   "outputs": [],
   "source": [
    "List_num=AfterDiv(Line_OfDivid)"
   ]
  },
  {
   "cell_type": "code",
   "execution_count": 152,
   "id": "56397e85",
   "metadata": {},
   "outputs": [
    {
     "data": {
      "text/plain": [
       "['0', 'p']"
      ]
     },
     "execution_count": 152,
     "metadata": {},
     "output_type": "execute_result"
    }
   ],
   "source": [
    "List_num"
   ]
  },
  {
   "cell_type": "code",
   "execution_count": 155,
   "id": "2dec5c58",
   "metadata": {},
   "outputs": [],
   "source": [
    "def DividByZero(List_num):\n",
    "    for i in range(len(List_num)):\n",
    "        if List_num[i].isnumeric() == True:\n",
    "            if int(List_num[i]) == 0:\n",
    "                 print(\" division by zero  \")\n",
    "                    #raise Exception(f'Error: mageic error of line {i} the error is \" {data[i]} \"') \n",
    "            \n",
    "        else: \n",
    "            \n",
    "            var_div = find(List_num[i], \"text.txt\", \"line\")\n",
    "            num = var_div.split(\"=\")[1]\n",
    "            res = int(num)\n",
    "            if res == 0: \n",
    "                print(\" division by zero  \")\n",
    "            "
   ]
  },
  {
   "cell_type": "code",
   "execution_count": 156,
   "id": "50c9e0c2",
   "metadata": {},
   "outputs": [
    {
     "name": "stdout",
     "output_type": "stream",
     "text": [
      " division by zero  \n"
     ]
    },
    {
     "ename": "FileNotFoundError",
     "evalue": "[Errno 2] No such file or directory: 'text.txt'",
     "output_type": "error",
     "traceback": [
      "\u001b[1;31m---------------------------------------------------------------------------\u001b[0m",
      "\u001b[1;31mFileNotFoundError\u001b[0m                         Traceback (most recent call last)",
      "\u001b[1;32m~\\AppData\\Local\\Temp/ipykernel_9288/3877057955.py\u001b[0m in \u001b[0;36m<module>\u001b[1;34m\u001b[0m\n\u001b[1;32m----> 1\u001b[1;33m \u001b[0mDividByZero\u001b[0m\u001b[1;33m(\u001b[0m\u001b[0mList_num\u001b[0m\u001b[1;33m)\u001b[0m\u001b[1;33m\u001b[0m\u001b[1;33m\u001b[0m\u001b[0m\n\u001b[0m",
      "\u001b[1;32m~\\AppData\\Local\\Temp/ipykernel_9288/1070785527.py\u001b[0m in \u001b[0;36mDividByZero\u001b[1;34m(List_num)\u001b[0m\n\u001b[0;32m      8\u001b[0m         \u001b[1;32melse\u001b[0m\u001b[1;33m:\u001b[0m\u001b[1;33m\u001b[0m\u001b[1;33m\u001b[0m\u001b[0m\n\u001b[0;32m      9\u001b[0m \u001b[1;33m\u001b[0m\u001b[0m\n\u001b[1;32m---> 10\u001b[1;33m             \u001b[0mvar_div\u001b[0m \u001b[1;33m=\u001b[0m \u001b[0mfind\u001b[0m\u001b[1;33m(\u001b[0m\u001b[0mList_num\u001b[0m\u001b[1;33m[\u001b[0m\u001b[0mi\u001b[0m\u001b[1;33m]\u001b[0m\u001b[1;33m,\u001b[0m \u001b[1;34m\"text.txt\"\u001b[0m\u001b[1;33m,\u001b[0m \u001b[1;34m\"line\"\u001b[0m\u001b[1;33m)\u001b[0m\u001b[1;33m\u001b[0m\u001b[1;33m\u001b[0m\u001b[0m\n\u001b[0m\u001b[0;32m     11\u001b[0m             \u001b[0mnum\u001b[0m \u001b[1;33m=\u001b[0m \u001b[0mvar_div\u001b[0m\u001b[1;33m.\u001b[0m\u001b[0msplit\u001b[0m\u001b[1;33m(\u001b[0m\u001b[1;34m\"=\"\u001b[0m\u001b[1;33m)\u001b[0m\u001b[1;33m[\u001b[0m\u001b[1;36m1\u001b[0m\u001b[1;33m]\u001b[0m\u001b[1;33m\u001b[0m\u001b[1;33m\u001b[0m\u001b[0m\n\u001b[0;32m     12\u001b[0m             \u001b[0mres\u001b[0m \u001b[1;33m=\u001b[0m \u001b[0mint\u001b[0m\u001b[1;33m(\u001b[0m\u001b[0mnum\u001b[0m\u001b[1;33m)\u001b[0m\u001b[1;33m\u001b[0m\u001b[1;33m\u001b[0m\u001b[0m\n",
      "\u001b[1;32m~\\AppData\\Local\\Temp/ipykernel_9288/1249338048.py\u001b[0m in \u001b[0;36mfind\u001b[1;34m(par, file_name, what)\u001b[0m\n\u001b[0;32m      1\u001b[0m \u001b[1;32mdef\u001b[0m \u001b[0mfind\u001b[0m \u001b[1;33m(\u001b[0m\u001b[0mpar\u001b[0m\u001b[1;33m,\u001b[0m\u001b[0mfile_name\u001b[0m\u001b[1;33m,\u001b[0m\u001b[0mwhat\u001b[0m\u001b[1;33m)\u001b[0m\u001b[1;33m:\u001b[0m\u001b[1;33m\u001b[0m\u001b[1;33m\u001b[0m\u001b[0m\n\u001b[1;32m----> 2\u001b[1;33m     \u001b[1;32mwith\u001b[0m \u001b[0mopen\u001b[0m\u001b[1;33m(\u001b[0m\u001b[0mfile_name\u001b[0m\u001b[1;33m)\u001b[0m \u001b[1;32mas\u001b[0m \u001b[0mf\u001b[0m\u001b[1;33m:\u001b[0m\u001b[1;33m\u001b[0m\u001b[1;33m\u001b[0m\u001b[0m\n\u001b[0m\u001b[0;32m      3\u001b[0m     \u001b[1;31m# reading each line\u001b[0m\u001b[1;33m\u001b[0m\u001b[1;33m\u001b[0m\u001b[0m\n\u001b[0;32m      4\u001b[0m             \u001b[1;32mfor\u001b[0m \u001b[0mline\u001b[0m \u001b[1;32min\u001b[0m \u001b[0mf\u001b[0m\u001b[1;33m:\u001b[0m\u001b[1;33m\u001b[0m\u001b[1;33m\u001b[0m\u001b[0m\n\u001b[0;32m      5\u001b[0m \u001b[1;33m\u001b[0m\u001b[0m\n",
      "\u001b[1;31mFileNotFoundError\u001b[0m: [Errno 2] No such file or directory: 'text.txt'"
     ]
    }
   ],
   "source": [
    "DividByZero(List_num)"
   ]
  },
  {
   "cell_type": "markdown",
   "id": "9f6e8207",
   "metadata": {},
   "source": [
    "magic number"
   ]
  },
  {
   "cell_type": "markdown",
   "id": "eb9ffbf8",
   "metadata": {},
   "source": [
    "cases: if after( < , > , == , ** , return , / , +) "
   ]
  },
  {
   "cell_type": "code",
   "execution_count": 68,
   "id": "2d249fde",
   "metadata": {},
   "outputs": [],
   "source": [
    "def magic2(list):\n",
    "    operations = ['>', '<', '==','!=', '**','+', '-', '/','*', 'return']\n",
    "    for i in range(len(list)):\n",
    "             for j in range(len(lines_list[i])):\n",
    "                if len(lines_list[i]) != j+1:\n",
    "                    isNumber =  lines_list[i][j+1].isnumeric()\n",
    "                    for operation in operations:\n",
    "                        if (operation == lines_list[i][j] and isNumber) :\n",
    "                            print (i)\n",
    "                            print(f'Error: mageic error of line {i} the error is \" {lines_list[i]} \"')"
   ]
  },
  {
   "cell_type": "code",
   "execution_count": 70,
   "id": "8fb3de30",
   "metadata": {},
   "outputs": [
    {
     "name": "stdout",
     "output_type": "stream",
     "text": [
      "18\n",
      "Error: mageic error of line 18 the error is \" if x>2: \"\n",
      "32\n",
      "Error: mageic error of line 32 the error is \" q = x/0 \"\n",
      "33\n",
      "Error: mageic error of line 33 the error is \" f = p+10 \"\n",
      "37\n",
      "Error: mageic error of line 37 the error is \" for i>7: \"\n"
     ]
    }
   ],
   "source": [
    "magic2(lines_list)"
   ]
  },
  {
   "cell_type": "code",
   "execution_count": null,
   "id": "b88b2ae1",
   "metadata": {},
   "outputs": [],
   "source": []
  }
 ],
 "metadata": {
  "kernelspec": {
   "display_name": "Python 3 (ipykernel)",
   "language": "python",
   "name": "python3"
  },
  "language_info": {
   "codemirror_mode": {
    "name": "ipython",
    "version": 3
   },
   "file_extension": ".py",
   "mimetype": "text/x-python",
   "name": "python",
   "nbconvert_exporter": "python",
   "pygments_lexer": "ipython3",
   "version": "3.9.7"
  }
 },
 "nbformat": 4,
 "nbformat_minor": 5
}
