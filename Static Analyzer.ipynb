{
 "cells": [
  {
   "cell_type": "markdown",
   "id": "ae0ad1c3",
   "metadata": {},
   "source": [
    "# Unreachable Code"
   ]
  },
  {
   "cell_type": "code",
   "execution_count": 134,
   "id": "6dc410b9",
   "metadata": {
    "scrolled": true
   },
   "outputs": [
    {
     "data": {
      "text/plain": [
       "\"\\nwith open('python_code_text.txt', 'r') as infile:\\n    # Read the contents of the file into memory\\n    data = infile.read()  \\n\\n# Return a list of the lines, breaking at line boundaries.\\nlines_list = data.splitlines()\\n\""
      ]
     },
     "execution_count": 134,
     "metadata": {},
     "output_type": "execute_result"
    }
   ],
   "source": [
    "'''\n",
    "with open('python_code_text.txt', 'r') as infile:\n",
    "    # Read the contents of the file into memory\n",
    "    data = infile.read()  \n",
    "\n",
    "# Return a list of the lines, breaking at line boundaries.\n",
    "lines_list = data.splitlines()\n",
    "'''"
   ]
  },
  {
   "cell_type": "code",
   "execution_count": 6,
   "id": "ef459382",
   "metadata": {},
   "outputs": [],
   "source": [
    "def read_func(filename):\n",
    "    '''\n",
    "    Return: the text file in a list of its lines.\n",
    "    Parameter: (filename) should be .txt format.\n",
    "    Description: It reads the text file that includes the code line by line.\n",
    "    ''' \n",
    "    with open(filename,'r') as file:\n",
    "        lines = [line.strip() for line in file]\n",
    "\n",
    "    return lines"
   ]
  },
  {
   "cell_type": "code",
   "execution_count": 136,
   "id": "96b37c36",
   "metadata": {},
   "outputs": [],
   "source": [
    "lines_list = read_func('test.txt')"
   ]
  },
  {
   "cell_type": "code",
   "execution_count": 137,
   "id": "65a4e28b",
   "metadata": {},
   "outputs": [],
   "source": [
    "def functions_lines(lines_list):\n",
    "    '''\n",
    "    return: List of each line with function definition\n",
    "    parameter: list of lines \n",
    "    ''' \n",
    "    return [index+1 for index,line in enumerate(lines_list)\n",
    "            if len(line.split()) >= 1 \n",
    "            if line.split()[0] == 'def']"
   ]
  },
  {
   "cell_type": "code",
   "execution_count": 138,
   "id": "1cebbbac",
   "metadata": {
    "scrolled": false
   },
   "outputs": [
    {
     "data": {
      "text/plain": [
       "[1, 6, 12, 16, 23, 29, 35]"
      ]
     },
     "execution_count": 138,
     "metadata": {},
     "output_type": "execute_result"
    }
   ],
   "source": [
    "def_lines = functions_lines(lines_list)\n",
    "def_lines"
   ]
  },
  {
   "cell_type": "markdown",
   "id": "db29be4e",
   "metadata": {},
   "source": [
    "# False condition or True condition"
   ]
  },
  {
   "cell_type": "code",
   "execution_count": 139,
   "id": "63fad91f",
   "metadata": {},
   "outputs": [],
   "source": [
    "def get_next_function_line(index):\n",
    "    '''\n",
    "    Loop from that index line until the next function\n",
    "    return: next function line\n",
    "    parameter: index line\n",
    "    '''\n",
    "    for def_line in def_lines:\n",
    "        if def_line > index:\n",
    "            return def_line"
   ]
  },
  {
   "cell_type": "code",
   "execution_count": 140,
   "id": "b2a7f87d",
   "metadata": {},
   "outputs": [],
   "source": [
    "def false_true_conditions(lines_list):\n",
    "    for index_line,line in enumerate(lines_list):\n",
    "        if 'if' in line:\n",
    "            if 'False' in line:\n",
    "                print(f'Unrechable code in line {index_line+2}, False condition\\n')\n",
    "\n",
    "            elif 'True' in line:\n",
    "                detect_until = get_next_function_line(index_line+1)\n",
    "\n",
    "                for line_else_index,lines_until_def in enumerate(lines_list[index_line:detect_until]):\n",
    "                    if 'else' in lines_until_def:\n",
    "                        print(f'Unrechable code in line {line_else_index+2}, if statement always true, therefore else condition is unreachable\\n')"
   ]
  },
  {
   "cell_type": "markdown",
   "id": "e838af53",
   "metadata": {},
   "source": [
    "# After return statement"
   ]
  },
  {
   "cell_type": "code",
   "execution_count": 141,
   "id": "c318c751",
   "metadata": {},
   "outputs": [],
   "source": [
    "def after_return_statement(lines_list):\n",
    "    for index,line in enumerate(lines_list):\n",
    "        if 'return' in line:\n",
    "            next_line = lines_list[index+1].split()\n",
    "            if len(next_line) >= 1: # not empty line\n",
    "                # if the next line is neither 'else' statement nor new function\n",
    "                if 'else' in next_line or 'def' in next_line:\n",
    "                    pass\n",
    "                else:\n",
    "                    print(f'Unreachable code after return statement in line {index+2} \\n')"
   ]
  },
  {
   "cell_type": "markdown",
   "id": "b17b5274",
   "metadata": {},
   "source": [
    "# Same condition in if and else statement"
   ]
  },
  {
   "cell_type": "code",
   "execution_count": 142,
   "id": "1169f3da",
   "metadata": {},
   "outputs": [],
   "source": [
    "import re"
   ]
  },
  {
   "cell_type": "code",
   "execution_count": 143,
   "id": "56d621f5",
   "metadata": {},
   "outputs": [],
   "source": [
    "def save_condition(line, statement):\n",
    "    cond = re.split(':',line)[0]\n",
    "    cond = re.split(statement, cond)[1].strip()\n",
    "    return cond"
   ]
  },
  {
   "cell_type": "code",
   "execution_count": 144,
   "id": "e1ab4ac6",
   "metadata": {
    "scrolled": true
   },
   "outputs": [],
   "source": [
    "def duplicated_condition(lines_list):\n",
    "    for index,line in enumerate(lines_list):\n",
    "        if 'if' in line:\n",
    "            condition = save_condition(line, 'if')\n",
    "        # if not empty line\n",
    "        if len(line) >= 1 and 'elif' in line: \n",
    "                elif_condition = save_condition(line, 'elif')\n",
    "                # Detect if else condition is the same as elif condition\n",
    "                if elif_condition == condition:\n",
    "                    print(f'Unreachable code at line {index+2},the elif-statement can never be true as the same condition in if-statement has already been handled \\n')"
   ]
  },
  {
   "cell_type": "code",
   "execution_count": 145,
   "id": "5844fd6f",
   "metadata": {},
   "outputs": [],
   "source": [
    "def unreachable_code(lines_list):\n",
    "    false_true_conditions(lines_list)\n",
    "    after_return_statement(lines_list)\n",
    "    duplicated_condition(lines_list)"
   ]
  },
  {
   "cell_type": "code",
   "execution_count": 146,
   "id": "a07e121c",
   "metadata": {},
   "outputs": [
    {
     "name": "stdout",
     "output_type": "stream",
     "text": [
      "Unrechable code in line 3, if statement always true, therefore else condition is unreachable\n",
      "\n",
      "Unrechable code in line 8, False condition\n",
      "\n",
      "Unreachable code after return statement in line 14 \n",
      "\n",
      "Unreachable code after return statement in line 19 \n",
      "\n",
      "Unreachable code at line 27,the elif-statement can never be true as the same condition in if-statement has already been handled \n",
      "\n"
     ]
    }
   ],
   "source": [
    "unreachable_code(lines_list)"
   ]
  },
  {
   "cell_type": "markdown",
   "id": "7929b3f5",
   "metadata": {},
   "source": [
    "divide by zero"
   ]
  },
  {
   "cell_type": "markdown",
   "id": "a9569cec",
   "metadata": {},
   "source": [
    "* cases 1: if divide int of zero \n",
    "* case 2: if divide var value of var =0   "
   ]
  },
  {
   "cell_type": "code",
   "execution_count": 8,
   "id": "0a9615c5",
   "metadata": {},
   "outputs": [],
   "source": [
    "def find (keyword,filename,what):\n",
    "    '''\n",
    "    Return: List of words or list of lines that includes a certain word. \n",
    "    Parameter: (keyword: The word you're searching for,\n",
    "                filename: The text file, \n",
    "                what: \"word\" to return a list of words or \"lines\" list lines) \n",
    "    Description: its used when you want to find a word or the line containing the word\n",
    "    '''\n",
    "    store = []\n",
    "    with open(filename) as f:  \n",
    "        for line in f:      \n",
    "            for word in line.split():\n",
    "                if word == keyword and what == \"word\":\n",
    "                    store.append(word)\n",
    "                if word == keyword and what == \"line\":\n",
    "                    store.append(line)\n",
    "    return store"
   ]
  },
  {
   "cell_type": "code",
   "execution_count": 148,
   "id": "0074baa2",
   "metadata": {},
   "outputs": [],
   "source": [
    "def Line_OfDivid():\n",
    "    LineOfDivid =[]\n",
    "    for i in range(len(lines_list)):\n",
    "        for j in lines_list[i]:\n",
    "            if j==\"/\":\n",
    "                LineOfDivid.append(lines_list[i])\n",
    "    return LineOfDivid\n",
    "   "
   ]
  },
  {
   "cell_type": "code",
   "execution_count": 149,
   "id": "7a08fe8d",
   "metadata": {},
   "outputs": [
    {
     "data": {
      "text/plain": [
       "['q = x/0', 'z = 1/p']"
      ]
     },
     "execution_count": 149,
     "metadata": {},
     "output_type": "execute_result"
    }
   ],
   "source": [
    "Line_OfDivid=Line_OfDivid()\n",
    "Line_OfDivid"
   ]
  },
  {
   "cell_type": "code",
   "execution_count": 150,
   "id": "c550f97f",
   "metadata": {},
   "outputs": [],
   "source": [
    "def AfterDiv(Line_OfDivid):\n",
    "    list_num = []\n",
    "    for i in range(len(Line_OfDivid)):\n",
    "        num = Line_OfDivid[i].split(\"/\")\n",
    "        list_num.append(num[1])\n",
    "    return list_num"
   ]
  },
  {
   "cell_type": "code",
   "execution_count": 151,
   "id": "5736381b",
   "metadata": {},
   "outputs": [],
   "source": [
    "List_num=AfterDiv(Line_OfDivid)"
   ]
  },
  {
   "cell_type": "code",
   "execution_count": 152,
   "id": "56397e85",
   "metadata": {},
   "outputs": [
    {
     "data": {
      "text/plain": [
       "['0', 'p']"
      ]
     },
     "execution_count": 152,
     "metadata": {},
     "output_type": "execute_result"
    }
   ],
   "source": [
    "List_num"
   ]
  },
  {
   "cell_type": "code",
   "execution_count": 157,
   "id": "2dec5c58",
   "metadata": {},
   "outputs": [],
   "source": [
    "def DividByZero(List_num):\n",
    "    for i in range(len(List_num)):\n",
    "        if List_num[i].isnumeric() == True:\n",
    "            if int(List_num[i]) == 0:\n",
    "                 print(\" division by zero  \")\n",
    "                    #raise Exception(f'Error: mageic error of line {i} the error is \" {data[i]} \"') \n",
    "            \n",
    "        else: \n",
    "            \n",
    "            var_div = find(List_num[i], \"test.txt\", \"line\")\n",
    "            num = var_div.split(\"=\")[1]\n",
    "            res = int(num)\n",
    "            if res == 0: \n",
    "                print(\" division by zero  \")\n",
    "            "
   ]
  },
  {
   "cell_type": "code",
   "execution_count": 158,
   "id": "50c9e0c2",
   "metadata": {},
   "outputs": [
    {
     "name": "stdout",
     "output_type": "stream",
     "text": [
      " division by zero  \n",
      " division by zero  \n"
     ]
    }
   ],
   "source": [
    "DividByZero(List_num)"
   ]
  },
  {
   "cell_type": "markdown",
   "id": "9f6e8207",
   "metadata": {},
   "source": [
    "magic number"
   ]
  },
  {
   "cell_type": "markdown",
   "id": "eb9ffbf8",
   "metadata": {},
   "source": [
    "cases: if after( < , > , == , ** , return , / , +) "
   ]
  },
  {
   "cell_type": "code",
   "execution_count": 159,
   "id": "2d249fde",
   "metadata": {},
   "outputs": [],
   "source": [
    "def magic2(list):\n",
    "    operations = ['>', '<', '==','!=', '**','+', '-', '/','*', 'return']\n",
    "    for i in range(len(list)):\n",
    "             for j in range(len(lines_list[i])):\n",
    "                if len(lines_list[i]) != j+1:\n",
    "                    isNumber =  lines_list[i][j+1].isnumeric()\n",
    "                    for operation in operations:\n",
    "                        if (operation == lines_list[i][j] and isNumber) :\n",
    "                            print (i)\n",
    "                            print(f'Error: mageic error of line {i} the error is \" {lines_list[i]} \"')"
   ]
  },
  {
   "cell_type": "code",
   "execution_count": 160,
   "id": "8fb3de30",
   "metadata": {},
   "outputs": [
    {
     "name": "stdout",
     "output_type": "stream",
     "text": [
      "16\n",
      "Error: mageic error of line 16 the error is \" if x>2: \"\n",
      "30\n",
      "Error: mageic error of line 30 the error is \" q = x/0 \"\n",
      "31\n",
      "Error: mageic error of line 31 the error is \" f = x+10 \"\n",
      "35\n",
      "Error: mageic error of line 35 the error is \" for i>7: \"\n"
     ]
    }
   ],
   "source": [
    "magic2(lines_list)"
   ]
  },
  {
   "cell_type": "markdown",
   "id": "b88b2ae1",
   "metadata": {},
   "source": []
  },
  {
   "cell_type": "markdown",
   "id": "eb95d21d",
   "metadata": {},
   "source": [
    "## No more than three parameters"
   ]
  },
  {
   "cell_type": "code",
   "execution_count": 1,
   "id": "01aa1273",
   "metadata": {},
   "outputs": [],
   "source": [
    "def split_by(sentence, by):\n",
    "    '''\n",
    "    Return: List of splitted sentence\n",
    "    Parameter: (sentence: The sentence to split,\n",
    "                by: to split by what)\n",
    "    Description: Splits strings using split method \n",
    "    '''\n",
    "    splitted = sentence.split(by)\n",
    "    return splitted"
   ]
  },
  {
   "cell_type": "code",
   "execution_count": 2,
   "id": "7f75b95b",
   "metadata": {},
   "outputs": [],
   "source": [
    "def get_parameters(func):\n",
    "    '''\n",
    "    Return: List of parameter\n",
    "    Parameter: (func: string; the parameters you want to make them in a list) \n",
    "    Description: Splits the string to get the exact parameters between the brackets.  \n",
    "    '''\n",
    "    #Split between whats before and after the ( ) .\n",
    "    obracket = split_by(func,\"(\")\n",
    "    cbracket = split_by(obracket[1],\")\")\n",
    "    #result is a list of parameters \n",
    "    result = split_by(cbracket[0],\",\")\n",
    "    return result\n"
   ]
  },
  {
   "cell_type": "code",
   "execution_count": 3,
   "id": "979073b9",
   "metadata": {},
   "outputs": [],
   "source": [
    "def len_parameters(pars,location):\n",
    "    '''\n",
    "    Return: Print the error msg if there's more than three parameters \n",
    "    Parameter: (pars: list of parameters  , location: the function that contains the parameters) \n",
    "    Description: Check if number of parameters is 3 or more in a certain line. \n",
    "    '''\n",
    "    number_parameters = len(pars)\n",
    "    max_parameters = 3 \n",
    "    if number_parameters>max_parameters :\n",
    "        print(f\"[ERROR]: More than three parameters. There's {number_parameters} parameters in function:{location}\")"
   ]
  },
  {
   "cell_type": "code",
   "execution_count": 4,
   "id": "e935d278",
   "metadata": {},
   "outputs": [],
   "source": [
    "def parameters_number(filename):\n",
    "    '''\n",
    "    Return: Print the error msg if there's more than three parameters \n",
    "    Parameter: (filename: the text file that contains the code) \n",
    "    Description: Check if number of parameters is 3 or more on the whole code (text file). \n",
    "    '''\n",
    "    data = read_func(filename)\n",
    "    #case 1: function is after the definition\n",
    "    functions = find(\"def\",filename,\"line\")\n",
    "    for i in range(len(functions)):\n",
    "        x = get_parameters(split_by(functions[i], \" \")[1])\n",
    "        len_parameters(x,functions[i])\n",
    "    #case 2: function is called in the code.\n",
    "    names = []\n",
    "    for i in functions:\n",
    "        names.append(split_by(i, \" \")[1])\n",
    "    for i in names:\n",
    "        if i in data:\n",
    "            x = get_parameters(i)\n",
    "            len_parameters(x,i)"
   ]
  },
  {
   "cell_type": "code",
   "execution_count": 10,
   "id": "979f53fa",
   "metadata": {},
   "outputs": [
    {
     "name": "stdout",
     "output_type": "stream",
     "text": [
      "[ERROR]: More than three parameters. There's 5 parameters in function:def check1(x,n,z,w,q) :\n",
      "\n"
     ]
    }
   ],
   "source": [
    "parameters_number(\"test.txt\")"
   ]
  },
  {
   "cell_type": "code",
   "execution_count": null,
   "id": "5c0c548d",
   "metadata": {},
   "outputs": [],
   "source": []
  }
 ],
 "metadata": {
  "kernelspec": {
   "display_name": "Python 3 (ipykernel)",
   "language": "python",
   "name": "python3"
  },
  "language_info": {
   "codemirror_mode": {
    "name": "ipython",
    "version": 3
   },
   "file_extension": ".py",
   "mimetype": "text/x-python",
   "name": "python",
   "nbconvert_exporter": "python",
   "pygments_lexer": "ipython3",
   "version": "3.9.7"
  }
 },
 "nbformat": 4,
 "nbformat_minor": 5
}
