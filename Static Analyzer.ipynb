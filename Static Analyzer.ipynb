{
 "cells": [
  {
   "cell_type": "markdown",
   "id": "3faa4408",
   "metadata": {},
   "source": [
    "# Static Analyzer - QA Assignment \n",
    "Team 12\n",
    "* Reema Khaseeb - \n",
    "* Yara Abu-Odeh - 11926410\n",
    "* Zubaida Sadder - 11925174 <br>\n",
    "\n",
    "Doc. Mustafa Assaf <br>"
   ]
  },
  {
   "cell_type": "markdown",
   "id": "2cd8ec57",
   "metadata": {},
   "source": [
    "### Generally needed functions. "
   ]
  },
  {
   "cell_type": "code",
   "execution_count": 1,
   "id": "ef459382",
   "metadata": {},
   "outputs": [],
   "source": [
    "def read_func(filename):\n",
    "    '''\n",
    "    Return: the text file in a list of its lines.\n",
    "    Parameter: (filename) should be .txt format.\n",
    "    Description: It reads the text file that includes the code line by line.\n",
    "    ''' \n",
    "    with open(filename,'r') as file:\n",
    "        lines = [line.strip() for line in file]\n",
    "\n",
    "    return lines"
   ]
  },
  {
   "cell_type": "code",
   "execution_count": 2,
   "id": "65a4e28b",
   "metadata": {},
   "outputs": [],
   "source": [
    "def functions_lines(lines_list):\n",
    "    '''\n",
    "    return: List of each line with function definition\n",
    "    parameter: list of lines \n",
    "    ''' \n",
    "    return [index+1 for index,line in enumerate(lines_list)\n",
    "            if len(line.split()) >= 1 \n",
    "            if line.split()[0] == 'def']"
   ]
  },
  {
   "cell_type": "code",
   "execution_count": 3,
   "id": "0a9615c5",
   "metadata": {},
   "outputs": [],
   "source": [
    "def find (keyword,filename,what):\n",
    "    '''\n",
    "    Return: List of words or list of lines that includes a certain word. \n",
    "    Parameter: (keyword: The word you're searching for,\n",
    "                filename: The text file, \n",
    "                what: \"word\" to return a list of words or \"lines\" list lines) \n",
    "    Description: its used when you want to find a word or the line containing the word\n",
    "    '''\n",
    "    store = []\n",
    "    with open(filename) as f:  \n",
    "        for line in f:      \n",
    "            for word in line.split():\n",
    "                if word == keyword and what == \"word\":\n",
    "                    store.append(word)\n",
    "                if word == keyword and what == \"line\":\n",
    "                    store.append(line)\n",
    "    return store"
   ]
  },
  {
   "cell_type": "code",
   "execution_count": 4,
   "id": "01aa1273",
   "metadata": {},
   "outputs": [],
   "source": [
    "def split_by(sentence, by):\n",
    "    '''\n",
    "    Return: List of splitted sentence\n",
    "    Parameter: (sentence: The sentence to split,\n",
    "                by: to split by what)\n",
    "    Description: Splits strings using split method \n",
    "    '''\n",
    "    splitted = sentence.split(by)\n",
    "    return splitted"
   ]
  },
  {
   "cell_type": "markdown",
   "id": "d2ab2113",
   "metadata": {},
   "source": [
    "### Magic Number "
   ]
  },
  {
   "cell_type": "code",
   "execution_count": 67,
   "id": "2d249fde",
   "metadata": {},
   "outputs": [],
   "source": [
    "def magic_num(lines_list):\n",
    "    '''\n",
    "    Return: Print an error msg if there's a magic number. \n",
    "    Parameter: (lines_list: the list that stores the text file)\n",
    "    Description: Checks the occurance of a magic number considering that it happens \n",
    "                after a list of operations or keywords.\n",
    "    '''\n",
    "    operations = ['>', '<', '==','!=', '**','+', '-', '/','*', 'return']\n",
    "    for i in range(len(lines_list)):\n",
    "             for j in range(len(lines_list[i])):\n",
    "                if len(lines_list[i]) != j+1:\n",
    "                    isNumber =  lines_list[i][j+1].isnumeric()\n",
    "                    for operation in operations:\n",
    "                        if (operation == lines_list[i][j] and isNumber) :\n",
    "                            print(f'[WARNING]: Magic Number. Line {i} Where:  \" {lines_list[i]} \"')"
   ]
  },
  {
   "cell_type": "markdown",
   "id": "427a1ecb",
   "metadata": {},
   "source": [
    "### Division by zero "
   ]
  },
  {
   "cell_type": "code",
   "execution_count": 33,
   "id": "0074baa2",
   "metadata": {},
   "outputs": [],
   "source": [
    "def Line_OfDivid(lines_list):\n",
    "    '''\n",
    "    Return: List of lines that contains division operations \n",
    "    Parameter: (lines_list: list of lines from the text file)\n",
    "    Description: Search for '/' string in each line of the file.\n",
    "    '''\n",
    "    LineOfDivid =[]\n",
    "    for i in range(len(lines_list)):\n",
    "        for j in lines_list[i]:\n",
    "            if j==\"/\":\n",
    "                LineOfDivid.append(lines_list[i])\n",
    "    return LineOfDivid\n",
    "   "
   ]
  },
  {
   "cell_type": "code",
   "execution_count": 39,
   "id": "0fabcfea",
   "metadata": {},
   "outputs": [],
   "source": [
    "def AfterDiv(lines_list):\n",
    "    '''\n",
    "    Return: List of values (variables or numbers) after each division\n",
    "    Parameter: (lines_list: list of lines from the text file)\n",
    "    Description: Search for the values after the divison\n",
    "    '''\n",
    "    LD = Line_OfDivid(lines_list)\n",
    "    list_num = []\n",
    "    for i in range(len(LD)):\n",
    "        num = LD[i].split(\"/\")\n",
    "        list_num.append(num[1])\n",
    "    return list_num"
   ]
  },
  {
   "cell_type": "code",
   "execution_count": 40,
   "id": "35d9d51a",
   "metadata": {},
   "outputs": [],
   "source": [
    "def DividByZero(filename,lines_list):\n",
    "    '''\n",
    "    Return: Print if there exist division by zero\n",
    "    Parameter: (filename: The name of the text file that contains the code.\n",
    "                lines_list: list of lines from the text file)\n",
    "    Description: Checks if the number after the division is zero   \n",
    "                and check the value of the variable if is zero or not.\n",
    "    '''\n",
    "    List_num=AfterDiv(lines_list)\n",
    "    for i in range(len(List_num)):\n",
    "        if List_num[i].isnumeric() == True:\n",
    "            if int(List_num[i]) == 0:\n",
    "                 print(\"[ERROR] : Division by zero\")            \n",
    "        else: \n",
    "            res = []\n",
    "            for i in List_num:\n",
    "                var_div = find(i, filename, \"line\")\n",
    "            for i in range(len(var_div)):\n",
    "                num = var_div[i].split(\"=\")[1]\n",
    "                res.append(int(num))\n",
    "                if res == 0: \n",
    "                    print(\"[ERROR] : Division by zero\")"
   ]
  },
  {
   "cell_type": "markdown",
   "id": "094d48c6",
   "metadata": {},
   "source": [
    "### No more than three parameters"
   ]
  },
  {
   "cell_type": "code",
   "execution_count": 9,
   "id": "7f75b95b",
   "metadata": {},
   "outputs": [],
   "source": [
    "def get_parameters(func):\n",
    "    '''\n",
    "    Return: List of parameter\n",
    "    Parameter: (func: string; the parameters you want to make them in a list) \n",
    "    Description: Splits the string to get the exact parameters between the brackets.  \n",
    "    '''\n",
    "    #Split between whats before and after the ( ) .\n",
    "    obracket = split_by(func,\"(\")\n",
    "    cbracket = split_by(obracket[1],\")\")\n",
    "    #result is a list of parameters \n",
    "    result = split_by(cbracket[0],\",\")\n",
    "    return result\n"
   ]
  },
  {
   "cell_type": "code",
   "execution_count": 10,
   "id": "dcbd1445",
   "metadata": {},
   "outputs": [],
   "source": [
    "def len_parameters(pars,location):\n",
    "    '''\n",
    "    Return: Print the error msg if there's more than three parameters \n",
    "    Parameter: (pars: list of parameters  , location: the function that contains the parameters) \n",
    "    Description: Check if number of parameters is 3 or more in a certain line. \n",
    "    '''\n",
    "    number_parameters = len(pars)\n",
    "    max_parameters = 3 \n",
    "    if number_parameters>max_parameters :\n",
    "        print(f\"[ERROR]: More than three parameters. There's {number_parameters} parameters in function:{location}\")"
   ]
  },
  {
   "cell_type": "code",
   "execution_count": 11,
   "id": "e935d278",
   "metadata": {},
   "outputs": [],
   "source": [
    "def parameters_number(filename):\n",
    "    '''\n",
    "    Return: Print the error msg if there's more than three parameters \n",
    "    Parameter: (filename: the text file that contains the code) \n",
    "    Description: Check if number of parameters is 3 or more on the whole code (text file). \n",
    "    '''\n",
    "    data = read_func(filename)\n",
    "    #case 1: function is after the definition\n",
    "    functions = find(\"def\",filename,\"line\")\n",
    "    for i in range(len(functions)):\n",
    "        x = get_parameters(split_by(functions[i], \" \")[1])\n",
    "        len_parameters(x,functions[i])\n",
    "    #case 2: function is called in the code.\n",
    "    names = []\n",
    "    for i in functions:\n",
    "        names.append(split_by(i, \" \")[1])\n",
    "    for i in names:\n",
    "        if i in data:\n",
    "            x = get_parameters(i)\n",
    "            len_parameters(x,i)"
   ]
  },
  {
   "cell_type": "markdown",
   "id": "ae0ad1c3",
   "metadata": {},
   "source": [
    "### Unreachable Code"
   ]
  },
  {
   "cell_type": "markdown",
   "id": "db29be4e",
   "metadata": {},
   "source": [
    "Case 1: False condition or True condition"
   ]
  },
  {
   "cell_type": "code",
   "execution_count": 64,
   "id": "04c787dc",
   "metadata": {},
   "outputs": [],
   "source": [
    "lines_list = read_func(\"test.txt\")\n",
    "def_lines = functions_lines(lines_list)"
   ]
  },
  {
   "cell_type": "code",
   "execution_count": 49,
   "id": "f93d748c",
   "metadata": {},
   "outputs": [],
   "source": [
    "def get_next_function_line(index):\n",
    "    '''\n",
    "    Loop from that index line until the next function\n",
    "    return: next function line\n",
    "    parameter: index line\n",
    "    '''\n",
    "    for def_line in def_lines:\n",
    "        if def_line > index:\n",
    "            return def_line"
   ]
  },
  {
   "cell_type": "code",
   "execution_count": 50,
   "id": "b2a7f87d",
   "metadata": {},
   "outputs": [],
   "source": [
    "def false_true_conditions(lines_list):\n",
    "    for index_line,line in enumerate(lines_list):\n",
    "        if 'if' in line:\n",
    "            if 'False' in line:\n",
    "                print(f'[WARNING]: Unrechable code in line {index_line+2}, False condition')\n",
    "\n",
    "            elif 'True' in line:\n",
    "                detect_until = get_next_function_line(index_line+1)\n",
    "\n",
    "                for line_else_index,lines_until_def in enumerate(lines_list[index_line:detect_until]):\n",
    "                    if 'else' in lines_until_def:\n",
    "                        print(f'[WARNING]: Unrechable code in line {line_else_index+2}, if statement always true, therefore else condition is unreachable')"
   ]
  },
  {
   "cell_type": "markdown",
   "id": "e838af53",
   "metadata": {},
   "source": [
    "Case 2: After return statement"
   ]
  },
  {
   "cell_type": "code",
   "execution_count": 51,
   "id": "4f91bb8a",
   "metadata": {},
   "outputs": [],
   "source": [
    "def after_return_statement(lines_list):\n",
    "    for index,line in enumerate(lines_list):\n",
    "        if 'return' in line:\n",
    "            next_line = lines_list[index+1].split()\n",
    "            if len(next_line) >= 1: # not empty line\n",
    "                # if the next line is neither 'else' statement nor new function\n",
    "                if 'else' in next_line or 'def' in next_line:\n",
    "                    pass\n",
    "                else:\n",
    "                    print(f'[WARNING]: Unreachable code after return statement in line {index+2}')"
   ]
  },
  {
   "cell_type": "markdown",
   "id": "b17b5274",
   "metadata": {},
   "source": [
    "Case 3: Same condition in if and else statement"
   ]
  },
  {
   "cell_type": "code",
   "execution_count": 52,
   "id": "fdb1fff7",
   "metadata": {},
   "outputs": [],
   "source": [
    "import re"
   ]
  },
  {
   "cell_type": "code",
   "execution_count": 53,
   "id": "56d621f5",
   "metadata": {},
   "outputs": [],
   "source": [
    "def save_condition(line, statement):\n",
    "    cond = re.split(':',line)[0]\n",
    "    cond = re.split(statement, cond)[1].strip()\n",
    "    return cond"
   ]
  },
  {
   "cell_type": "code",
   "execution_count": 54,
   "id": "6109f123",
   "metadata": {},
   "outputs": [],
   "source": [
    "def duplicated_condition(lines_list):\n",
    "    for index,line in enumerate(lines_list):\n",
    "        if 'if' in line:\n",
    "            condition = save_condition(line, 'if')\n",
    "        # if not empty line\n",
    "        if len(line) >= 1 and 'elif' in line: \n",
    "                elif_condition = save_condition(line, 'elif')\n",
    "                # Detect if else condition is the same as elif condition\n",
    "                if elif_condition == condition:\n",
    "                    print(f'[WARNING]: Unreachable code at line {index+2},the elif-statement can never be true as the same condition in if-statement has already been handled')"
   ]
  },
  {
   "cell_type": "code",
   "execution_count": 55,
   "id": "bee822fa",
   "metadata": {},
   "outputs": [],
   "source": [
    "def unreachable_code(lines_list):\n",
    "    false_true_conditions(lines_list)\n",
    "    after_return_statement(lines_list)\n",
    "    duplicated_condition(lines_list)"
   ]
  },
  {
   "cell_type": "code",
   "execution_count": 65,
   "id": "5c0c548d",
   "metadata": {},
   "outputs": [],
   "source": [
    "def main(filename):\n",
    "    '''\n",
    "    Calls the four cases. \n",
    "    '''\n",
    "    magic_num(lines_list)\n",
    "    DividByZero(filename,lines_list)\n",
    "    parameters_number(filename)\n",
    "    unreachable_code(lines_list)"
   ]
  },
  {
   "cell_type": "code",
   "execution_count": 66,
   "id": "622560d8",
   "metadata": {},
   "outputs": [
    {
     "name": "stdout",
     "output_type": "stream",
     "text": [
      "[Error]: Magic Error. Line 18 Where:  \" if x>2: \"\n",
      "[Error]: Magic Error. Line 33 Where:  \" q = x/0 \"\n",
      "[Error]: Magic Error. Line 34 Where:  \" f = x+10 \"\n",
      "[Error]: Magic Error. Line 40 Where:  \" for i>7: \"\n",
      "[ERROR] : Division by zero\n",
      "[ERROR]: More than three parameters. There's 5 parameters in function:def check1(x,n,z,w,q) :\n",
      "\n",
      "[ERROR]: More than three parameters. There's 5 parameters in function:check1(x,n,z,w,q)\n",
      "[WARNING]: Unrechable code in line 4, if statement always true, therefore else condition is unreachable\n",
      "[WARNING]: Unrechable code in line 9, False condition\n",
      "[WARNING]: Unreachable code after return statement in line 16\n",
      "[WARNING]: Unreachable code after return statement in line 21\n",
      "[WARNING]: Unreachable code at line 30,the elif-statement can never be true as the same condition in if-statement has already been handled\n"
     ]
    }
   ],
   "source": [
    "main(\"test.txt\")"
   ]
  },
  {
   "cell_type": "code",
   "execution_count": null,
   "id": "b42b48f6",
   "metadata": {},
   "outputs": [],
   "source": []
  }
 ],
 "metadata": {
  "kernelspec": {
   "display_name": "Python 3 (ipykernel)",
   "language": "python",
   "name": "python3"
  },
  "language_info": {
   "codemirror_mode": {
    "name": "ipython",
    "version": 3
   },
   "file_extension": ".py",
   "mimetype": "text/x-python",
   "name": "python",
   "nbconvert_exporter": "python",
   "pygments_lexer": "ipython3",
   "version": "3.9.7"
  }
 },
 "nbformat": 4,
 "nbformat_minor": 5
}
